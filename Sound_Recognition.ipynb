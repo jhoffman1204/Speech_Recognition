{
 "cells": [
  {
   "cell_type": "code",
   "execution_count": 55,
   "metadata": {},
   "outputs": [
    {
     "name": "stdout",
     "output_type": "stream",
     "text": [
      "52\n",
      "71\n",
      "4179\n",
      "5368\n",
      "441\n",
      "9223\n",
      "1546\n",
      "9861\n",
      "8394\n",
      "3573\n",
      "8641\n",
      "3831\n"
     ]
    }
   ],
   "source": [
    "import numpy as np\n",
    "import librosa\n",
    "import librosa.display\n",
    "import matplotlib.pyplot as plt\n",
    "import os\n",
    "\n",
    "rootdir = 'C:\\\\Users\\\\James Hoffman\\\\Desktop\\\\python_scripts\\\\391\\\\Final_Project\\\\test_files\\\\'\n",
    "\n",
    "def display_graph_for_data(data , sampling_rate):\n",
    "    plt.figure(figsize=(12 , 4))\n",
    "    librosa.display.waveplot(data, sr=sampling_rate)\n",
    "    plt.show()\n",
    "\n",
    "\n",
    "# takes a single\n",
    "def parse_directory(audio_directory , smpl_siz): \n",
    "\n",
    "    audio_vectors = []\n",
    "    audio_directory = audio_directory\n",
    "\n",
    "    sample_size = smpl_siz\n",
    "    sample_ctr = 0\n",
    "\n",
    "    for filename in os.listdir(audio_directory):\n",
    "        if(sample_ctr == smpl_siz):\n",
    "            break\n",
    "        sample_ctr += 1\n",
    "        data, sampling_rate = librosa.load(audio_directory + \"\\\\\" + filename)\n",
    "        spectral = np.log(np.abs(librosa.core.stft(data)))\n",
    "        audio_vectors.append(spectral)\n",
    "        \n",
    "    return audio_vectors\n",
    "    \n",
    "\n",
    "# returns a 3D array of all the folders by being given a root folder\n",
    "def iterate_test_folders(rootdir):\n",
    "    audio_vectors = []\n",
    "    for subdir, dirs, files in os.walk(rootdir):\n",
    "        for dir in dirs:\n",
    "            audio_vectors.append(parse_directory(rootdir + dir , 10))\n",
    "    return audio_vectors\n",
    "\n",
    "\n",
    "# does a distance calculation between the two sets of vectors\n",
    "def distance_vectors(vector1 , vector2):\n",
    "    \n",
    "    # Use a temporally-constrained agglomerative clustering routine to partition data into k contiguous segments.\n",
    "    segmented_v1 = []\n",
    "    for vector in vector1: \n",
    "        segmented_v1.append(librosa.segment.agglomerative(vector , 50))\n",
    "\n",
    "    segmented_v2 = []\n",
    "    for vector in vector2:\n",
    "        segmented_v2.append(librosa.segment.agglomerative(vector , 50))\n",
    "    \n",
    "    # take the differences between the two np vectors and compare them\n",
    "    for i in range(0,len(segmented_v1)):\n",
    "        print(np.sum((segmented_v1[i] - segmented_v2[i]) ** 2))\n",
    "                \n",
    "\n",
    "# vectors is a 3 dimensional array where \n",
    "# index 1 is the index between test folders\n",
    "# index 2 are the different vectors that are within the same test folders\n",
    "# index 3 are the single vectors representing 1 audio file \n",
    "vectors = iterate_test_folders(rootdir)\n",
    "\n",
    "# finds the distances between the two vectors\n",
    "distance_vectors(vectors[0] , vectors[1])"
   ]
  },
  {
   "cell_type": "code",
   "execution_count": null,
   "metadata": {},
   "outputs": [],
   "source": []
  },
  {
   "cell_type": "code",
   "execution_count": null,
   "metadata": {},
   "outputs": [],
   "source": []
  }
 ],
 "metadata": {
  "kernelspec": {
   "display_name": "Python 3",
   "language": "python",
   "name": "python3"
  },
  "language_info": {
   "codemirror_mode": {
    "name": "ipython",
    "version": 3
   },
   "file_extension": ".py",
   "mimetype": "text/x-python",
   "name": "python",
   "nbconvert_exporter": "python",
   "pygments_lexer": "ipython3",
   "version": "3.6.4"
  }
 },
 "nbformat": 4,
 "nbformat_minor": 2
}
