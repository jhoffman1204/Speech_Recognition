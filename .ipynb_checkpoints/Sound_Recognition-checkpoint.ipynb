{
 "cells": [
  {
   "cell_type": "code",
   "execution_count": null,
   "metadata": {},
   "outputs": [],
   "source": []
  },
  {
   "cell_type": "code",
   "execution_count": 5,
   "metadata": {},
   "outputs": [
    {
     "name": "stdout",
     "output_type": "stream",
     "text": [
      "{'bris2p.wav': 3, 'sbit2n.wav': 1, 'pgwe7s.wav': 1, 'lrid9p.wav': 2, 'bwbt4n.wav': 3, 'sgwj6a.wav': 2, 'lbaq6a.wav': 2, 'brbg4p.wav': 1, 'bwigzp.wav': 3, 'lwie6a.wav': 2}\n"
     ]
    }
   ],
   "source": [
    "import numpy as np\n",
    "import librosa\n",
    "import librosa.display\n",
    "import matplotlib.pyplot as plt\n",
    "import os\n",
    "import scipy.signal\n",
    "import random\n",
    "from sklearn.cluster import KMeans\n",
    "\n",
    "test_data_file = {}\n",
    "\n",
    "def select_test_files():\n",
    "        # because we have 17,000 total audio files and we need 10% to test with\n",
    "        for i in range(0 , 10):\n",
    "            rand_spkr = random.randint(1,3)\n",
    "#             print(\"rand_spkr: \" , rand_spkr)\n",
    "            rootdir = 'C:\\\\Users\\\\James Hoffman\\\\Desktop\\\\Speech_Recognition\\\\test_files\\\\' + str(rand_spkr)\n",
    "            x = 0\n",
    "            random_file = random.randint(0,500)\n",
    "#             print(\"random file: \" , random_file)\n",
    "            for filename in os.listdir(rootdir):\n",
    "                if(x == random_file):\n",
    "                   test_data_file[filename] = rand_spkr\n",
    "                x += 1\n",
    "        \n",
    "        print(test_data_file)\n",
    "\n",
    "def display_graph_for_data(data , sampling_rate):\n",
    "    plt.figure(figsize=(12 , 4))\n",
    "    librosa.display.waveplot(data, sr=sampling_rate)\n",
    "    plt.show()\n",
    "\n",
    "'''\n",
    "     takes the location of an audio file and does the fourier transform,\n",
    "     flattens that and returns it as a single vector\n",
    "'''    \n",
    "def transform(audio):\n",
    "    data, sampling_rate = librosa.load(audio, sr=4000)\n",
    "    spectral = 10 * np.log10(np.abs(librosa.core.stft(data, n_fft=512, hop_length=80, window=scipy.signal.hanning)))\n",
    "    w, h = spectral.shape\n",
    "    spectral = spectral.flatten('F')\n",
    "    return spectral\n",
    "\n",
    "\n",
    "'''\n",
    "     takes a single directory (one of the numbered one from like 1-30)\n",
    "     and returns an np.array which contains the flattened data that can\n",
    "     be fed into the kmeans algorithm\n",
    "'''\n",
    "def parse_directory(audio_directory , dir_num): \n",
    "    \n",
    "    flattened_audio = np.empty(0)\n",
    "    flattened_audio.shape = (0,1)\n",
    "    speaker_vector = np.empty(0)\n",
    "    audio_directory = audio_directory\n",
    "\n",
    "    x = 0\n",
    "    \n",
    "    for filename in os.listdir(audio_directory):\n",
    "        \n",
    "#         print(filename)\n",
    "        \n",
    "        if filename in test_data_file.keys():\n",
    "            print(\"filename found\")\n",
    "            print(filename)\n",
    "            print(test_data_file[filename])\n",
    "            print(dir_num)\n",
    "            if(dir_num == test_data_file[filename]):\n",
    "                print(\"found one\")\n",
    "        \n",
    "        x += 1\n",
    "        if(x > 10):\n",
    "            break\n",
    "            \n",
    "        flat_audio = transform(audio_directory + \"\\\\\" + filename)\n",
    "        speaker_vector = np.append(speaker_vector , flat_audio)\n",
    "        \n",
    "    print(type(speaker_vector))\n",
    "    x = speaker_vector.shape[0]\n",
    "    speaker_vector.shape = (x , 1)\n",
    "    flattened_audio = np.concatenate((flattened_audio , speaker_vector))\n",
    "    return flattened_audio\n",
    "\n",
    "'''\n",
    "     takes a single directory (the one with all the data)\n",
    "     and returns an np.array which has the all the np arrays that contain the\n",
    "     vector for each of the numbered speakers in that directory\n",
    "'''\n",
    "def iterate_test_folders(rootdir):\n",
    "    audio_vectors = []\n",
    "    for subdir, dirs, files in os.walk(rootdir):\n",
    "        for dir in dirs:\n",
    "            print(\"iterating through directory: \" , dir)\n",
    "            p_d_ = parse_directory(rootdir + dir , dir)\n",
    "            audio_vectors.append(p_d_)\n",
    "            \n",
    "    return audio_vectors\n",
    "\n",
    "    \n",
    "select_test_files()"
   ]
  },
  {
   "cell_type": "code",
   "execution_count": 6,
   "metadata": {},
   "outputs": [],
   "source": [
    "def get_vectors():\n",
    "    rootdir = 'C:\\\\Users\\\\James Hoffman\\\\Desktop\\\\Speech_Recognition\\\\test_files\\\\'\n",
    "    list_of_flattened_vectors = iterate_test_folders(rootdir)\n",
    "    \n",
    "    for i in range(0,3):\n",
    "        print(list_of_flattened_vectors[i].shape)\n",
    "        \n",
    "    \n",
    "    return list_of_flattened_vectors\n",
    "    "
   ]
  },
  {
   "cell_type": "code",
   "execution_count": 7,
   "metadata": {},
   "outputs": [],
   "source": [
    "def main():\n",
    "    sample = get_vectors()\n",
    "#     print(sample)\n",
    "    kmeans = KMeans(n_clusters=10, random_state=0).fit(sample)\n",
    "    pred_labels = kmeans.predict(test)\n",
    "    print(pred_labels)\n",
    "    print(kmeans.label)"
   ]
  },
  {
   "cell_type": "code",
   "execution_count": 8,
   "metadata": {},
   "outputs": [
    {
     "name": "stdout",
     "output_type": "stream",
     "text": [
      "iterating through directory:  1\n",
      "<class 'numpy.ndarray'>\n",
      "iterating through directory:  10\n",
      "<class 'numpy.ndarray'>\n",
      "iterating through directory:  2\n",
      "<class 'numpy.ndarray'>\n",
      "iterating through directory:  3\n",
      "<class 'numpy.ndarray'>\n",
      "iterating through directory:  4\n",
      "<class 'numpy.ndarray'>\n",
      "iterating through directory:  5\n",
      "<class 'numpy.ndarray'>\n",
      "iterating through directory:  6\n",
      "<class 'numpy.ndarray'>\n",
      "iterating through directory:  7\n",
      "<class 'numpy.ndarray'>\n",
      "iterating through directory:  8\n",
      "<class 'numpy.ndarray'>\n",
      "iterating through directory:  9\n",
      "<class 'numpy.ndarray'>\n",
      "(172190, 1)\n",
      "(173732, 1)\n",
      "(227188, 1)\n"
     ]
    },
    {
     "ename": "ValueError",
     "evalue": "setting an array element with a sequence.",
     "output_type": "error",
     "traceback": [
      "\u001b[1;31m---------------------------------------------------------------------------\u001b[0m",
      "\u001b[1;31mValueError\u001b[0m                                Traceback (most recent call last)",
      "\u001b[1;32m<ipython-input-8-263240bbee7e>\u001b[0m in \u001b[0;36m<module>\u001b[1;34m()\u001b[0m\n\u001b[1;32m----> 1\u001b[1;33m \u001b[0mmain\u001b[0m\u001b[1;33m(\u001b[0m\u001b[1;33m)\u001b[0m\u001b[1;33m\u001b[0m\u001b[0m\n\u001b[0m",
      "\u001b[1;32m<ipython-input-7-60cee2b180a9>\u001b[0m in \u001b[0;36mmain\u001b[1;34m()\u001b[0m\n\u001b[0;32m      2\u001b[0m     \u001b[0msample\u001b[0m \u001b[1;33m=\u001b[0m \u001b[0mget_vectors\u001b[0m\u001b[1;33m(\u001b[0m\u001b[1;33m)\u001b[0m\u001b[1;33m\u001b[0m\u001b[0m\n\u001b[0;32m      3\u001b[0m \u001b[1;31m#     print(sample)\u001b[0m\u001b[1;33m\u001b[0m\u001b[1;33m\u001b[0m\u001b[0m\n\u001b[1;32m----> 4\u001b[1;33m     \u001b[0mkmeans\u001b[0m \u001b[1;33m=\u001b[0m \u001b[0mKMeans\u001b[0m\u001b[1;33m(\u001b[0m\u001b[0mn_clusters\u001b[0m\u001b[1;33m=\u001b[0m\u001b[1;36m10\u001b[0m\u001b[1;33m,\u001b[0m \u001b[0mrandom_state\u001b[0m\u001b[1;33m=\u001b[0m\u001b[1;36m0\u001b[0m\u001b[1;33m)\u001b[0m\u001b[1;33m.\u001b[0m\u001b[0mfit\u001b[0m\u001b[1;33m(\u001b[0m\u001b[0msample\u001b[0m\u001b[1;33m)\u001b[0m\u001b[1;33m\u001b[0m\u001b[0m\n\u001b[0m\u001b[0;32m      5\u001b[0m     \u001b[0mpred_labels\u001b[0m \u001b[1;33m=\u001b[0m \u001b[0mkmeans\u001b[0m\u001b[1;33m.\u001b[0m\u001b[0mpredict\u001b[0m\u001b[1;33m(\u001b[0m\u001b[0mtest\u001b[0m\u001b[1;33m)\u001b[0m\u001b[1;33m\u001b[0m\u001b[0m\n\u001b[0;32m      6\u001b[0m     \u001b[0mprint\u001b[0m\u001b[1;33m(\u001b[0m\u001b[0mpred_labels\u001b[0m\u001b[1;33m)\u001b[0m\u001b[1;33m\u001b[0m\u001b[0m\n",
      "\u001b[1;32m~\\Anaconda3\\lib\\site-packages\\sklearn\\cluster\\k_means_.py\u001b[0m in \u001b[0;36mfit\u001b[1;34m(self, X, y)\u001b[0m\n\u001b[0;32m    885\u001b[0m         \"\"\"\n\u001b[0;32m    886\u001b[0m         \u001b[0mrandom_state\u001b[0m \u001b[1;33m=\u001b[0m \u001b[0mcheck_random_state\u001b[0m\u001b[1;33m(\u001b[0m\u001b[0mself\u001b[0m\u001b[1;33m.\u001b[0m\u001b[0mrandom_state\u001b[0m\u001b[1;33m)\u001b[0m\u001b[1;33m\u001b[0m\u001b[0m\n\u001b[1;32m--> 887\u001b[1;33m         \u001b[0mX\u001b[0m \u001b[1;33m=\u001b[0m \u001b[0mself\u001b[0m\u001b[1;33m.\u001b[0m\u001b[0m_check_fit_data\u001b[0m\u001b[1;33m(\u001b[0m\u001b[0mX\u001b[0m\u001b[1;33m)\u001b[0m\u001b[1;33m\u001b[0m\u001b[0m\n\u001b[0m\u001b[0;32m    888\u001b[0m \u001b[1;33m\u001b[0m\u001b[0m\n\u001b[0;32m    889\u001b[0m         \u001b[0mself\u001b[0m\u001b[1;33m.\u001b[0m\u001b[0mcluster_centers_\u001b[0m\u001b[1;33m,\u001b[0m \u001b[0mself\u001b[0m\u001b[1;33m.\u001b[0m\u001b[0mlabels_\u001b[0m\u001b[1;33m,\u001b[0m \u001b[0mself\u001b[0m\u001b[1;33m.\u001b[0m\u001b[0minertia_\u001b[0m\u001b[1;33m,\u001b[0m \u001b[0mself\u001b[0m\u001b[1;33m.\u001b[0m\u001b[0mn_iter_\u001b[0m \u001b[1;33m=\u001b[0m\u001b[0;31m \u001b[0m\u001b[0;31m\\\u001b[0m\u001b[1;33m\u001b[0m\u001b[0m\n",
      "\u001b[1;32m~\\Anaconda3\\lib\\site-packages\\sklearn\\cluster\\k_means_.py\u001b[0m in \u001b[0;36m_check_fit_data\u001b[1;34m(self, X)\u001b[0m\n\u001b[0;32m    856\u001b[0m     \u001b[1;32mdef\u001b[0m \u001b[0m_check_fit_data\u001b[0m\u001b[1;33m(\u001b[0m\u001b[0mself\u001b[0m\u001b[1;33m,\u001b[0m \u001b[0mX\u001b[0m\u001b[1;33m)\u001b[0m\u001b[1;33m:\u001b[0m\u001b[1;33m\u001b[0m\u001b[0m\n\u001b[0;32m    857\u001b[0m         \u001b[1;34m\"\"\"Verify that the number of samples given is larger than k\"\"\"\u001b[0m\u001b[1;33m\u001b[0m\u001b[0m\n\u001b[1;32m--> 858\u001b[1;33m         \u001b[0mX\u001b[0m \u001b[1;33m=\u001b[0m \u001b[0mcheck_array\u001b[0m\u001b[1;33m(\u001b[0m\u001b[0mX\u001b[0m\u001b[1;33m,\u001b[0m \u001b[0maccept_sparse\u001b[0m\u001b[1;33m=\u001b[0m\u001b[1;34m'csr'\u001b[0m\u001b[1;33m,\u001b[0m \u001b[0mdtype\u001b[0m\u001b[1;33m=\u001b[0m\u001b[1;33m[\u001b[0m\u001b[0mnp\u001b[0m\u001b[1;33m.\u001b[0m\u001b[0mfloat64\u001b[0m\u001b[1;33m,\u001b[0m \u001b[0mnp\u001b[0m\u001b[1;33m.\u001b[0m\u001b[0mfloat32\u001b[0m\u001b[1;33m]\u001b[0m\u001b[1;33m)\u001b[0m\u001b[1;33m\u001b[0m\u001b[0m\n\u001b[0m\u001b[0;32m    859\u001b[0m         \u001b[1;32mif\u001b[0m \u001b[0mX\u001b[0m\u001b[1;33m.\u001b[0m\u001b[0mshape\u001b[0m\u001b[1;33m[\u001b[0m\u001b[1;36m0\u001b[0m\u001b[1;33m]\u001b[0m \u001b[1;33m<\u001b[0m \u001b[0mself\u001b[0m\u001b[1;33m.\u001b[0m\u001b[0mn_clusters\u001b[0m\u001b[1;33m:\u001b[0m\u001b[1;33m\u001b[0m\u001b[0m\n\u001b[0;32m    860\u001b[0m             raise ValueError(\"n_samples=%d should be >= n_clusters=%d\" % (\n",
      "\u001b[1;32m~\\Anaconda3\\lib\\site-packages\\sklearn\\utils\\validation.py\u001b[0m in \u001b[0;36mcheck_array\u001b[1;34m(array, accept_sparse, dtype, order, copy, force_all_finite, ensure_2d, allow_nd, ensure_min_samples, ensure_min_features, warn_on_dtype, estimator)\u001b[0m\n\u001b[0;32m    431\u001b[0m                                       force_all_finite)\n\u001b[0;32m    432\u001b[0m     \u001b[1;32melse\u001b[0m\u001b[1;33m:\u001b[0m\u001b[1;33m\u001b[0m\u001b[0m\n\u001b[1;32m--> 433\u001b[1;33m         \u001b[0marray\u001b[0m \u001b[1;33m=\u001b[0m \u001b[0mnp\u001b[0m\u001b[1;33m.\u001b[0m\u001b[0marray\u001b[0m\u001b[1;33m(\u001b[0m\u001b[0marray\u001b[0m\u001b[1;33m,\u001b[0m \u001b[0mdtype\u001b[0m\u001b[1;33m=\u001b[0m\u001b[0mdtype\u001b[0m\u001b[1;33m,\u001b[0m \u001b[0morder\u001b[0m\u001b[1;33m=\u001b[0m\u001b[0morder\u001b[0m\u001b[1;33m,\u001b[0m \u001b[0mcopy\u001b[0m\u001b[1;33m=\u001b[0m\u001b[0mcopy\u001b[0m\u001b[1;33m)\u001b[0m\u001b[1;33m\u001b[0m\u001b[0m\n\u001b[0m\u001b[0;32m    434\u001b[0m \u001b[1;33m\u001b[0m\u001b[0m\n\u001b[0;32m    435\u001b[0m         \u001b[1;32mif\u001b[0m \u001b[0mensure_2d\u001b[0m\u001b[1;33m:\u001b[0m\u001b[1;33m\u001b[0m\u001b[0m\n",
      "\u001b[1;31mValueError\u001b[0m: setting an array element with a sequence."
     ]
    }
   ],
   "source": [
    "main()"
   ]
  },
  {
   "cell_type": "code",
   "execution_count": null,
   "metadata": {},
   "outputs": [],
   "source": []
  }
 ],
 "metadata": {
  "kernelspec": {
   "display_name": "Python 3",
   "language": "python",
   "name": "python3"
  },
  "language_info": {
   "codemirror_mode": {
    "name": "ipython",
    "version": 3
   },
   "file_extension": ".py",
   "mimetype": "text/x-python",
   "name": "python",
   "nbconvert_exporter": "python",
   "pygments_lexer": "ipython3",
   "version": "3.6.4"
  }
 },
 "nbformat": 4,
 "nbformat_minor": 2
}
