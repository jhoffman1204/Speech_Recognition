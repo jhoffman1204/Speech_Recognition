{
 "cells": [
  {
   "cell_type": "code",
   "execution_count": null,
   "metadata": {},
   "outputs": [],
   "source": []
  },
  {
   "cell_type": "code",
   "execution_count": 35,
   "metadata": {},
   "outputs": [
    {
     "name": "stdout",
     "output_type": "stream",
     "text": [
      "{'lbid4p.wav': 1, 'sgav5s.wav': 1, 'lrak7s.wav': 1, 'pgwr5s.wav': 1, 'lgal6n.wav': 3, 'prwj8p.wav': 3, 'srah5s.wav': 1, 'lray5p.wav': 2, 'sgwx2s.wav': 2, 'bgwh9a.wav': 3}\n"
     ]
    }
   ],
   "source": [
    "import numpy as np\n",
    "import librosa\n",
    "import librosa.display\n",
    "import matplotlib.pyplot as plt\n",
    "import os\n",
    "import scipy.signal\n",
    "import random\n",
    "from sklearn.cluster import KMeans\n",
    "\n",
    "test_data_file = {}\n",
    "\n",
    "def select_test_files():\n",
    "        # because we have 17,000 total audio files and we need 10% to test with\n",
    "        for i in range(0 , 10):\n",
    "            rand_spkr = random.randint(1,3)\n",
    "#             print(\"rand_spkr: \" , rand_spkr)\n",
    "            rootdir = 'C:\\\\Users\\\\James Hoffman\\\\Desktop\\\\Speech_Recognition\\\\test_files\\\\' + str(rand_spkr)\n",
    "            x = 0\n",
    "            random_file = random.randint(0,500)\n",
    "#             print(\"random file: \" , random_file)\n",
    "            for filename in os.listdir(rootdir):\n",
    "                if(x == random_file):\n",
    "                   test_data_file[filename] = rand_spkr\n",
    "                x += 1\n",
    "        \n",
    "        print(test_data_file)\n",
    "\n",
    "def display_graph_for_data(data , sampling_rate):\n",
    "    plt.figure(figsize=(12 , 4))\n",
    "    librosa.display.waveplot(data, sr=sampling_rate)\n",
    "    plt.show()\n",
    "\n",
    "'''\n",
    "     takes the location of an audio file and does the fourier transform,\n",
    "     flattens that and returns it as a single vector\n",
    "'''    \n",
    "def transform(audio):\n",
    "    data, sampling_rate = librosa.load(audio, sr=4000)\n",
    "    spectral = 10 * np.log10(np.abs(librosa.core.stft(data, n_fft=512, hop_length=80, window=scipy.signal.hanning)))\n",
    "    w, h = spectral.shape\n",
    "    spectral = spectral.flatten('F')\n",
    "    return spectral\n",
    "\n",
    "\n",
    "'''\n",
    "     takes a single directory (one of the numbered one from like 1-30)\n",
    "     and returns an np.array which contains the flattened data that can\n",
    "     be fed into the kmeans algorithm\n",
    "'''\n",
    "def parse_directory(audio_directory , dir_num): \n",
    "    \n",
    "    speaker_vector = []\n",
    "    audio_directory = audio_directory\n",
    "\n",
    "    x = 0\n",
    "    \n",
    "    for filename in os.listdir(audio_directory):\n",
    "        \n",
    "#         print(filename)\n",
    "        \n",
    "        if filename in test_data_file.keys():\n",
    "            print(\"filename found\")\n",
    "            print(filename)\n",
    "            print(test_data_file[filename])\n",
    "            print(dir_num)\n",
    "            if(dir_num == test_data_file[filename]):\n",
    "                print(\"found one\")\n",
    "        \n",
    "        x += 1\n",
    "        if(x > 10):\n",
    "            break\n",
    "            \n",
    "        flat_audio = transform(audio_directory + \"\\\\\" + filename).tolist()\n",
    "        speaker_vector = speaker_vector + flat_audio\n",
    "        \n",
    "    return speaker_vector\n",
    "\n",
    "'''\n",
    "     takes a single directory (the one with all the data)\n",
    "     and returns an np.array which has the all the np arrays that contain the\n",
    "     vector for each of the numbered speakers in that directory\n",
    "'''\n",
    "def iterate_test_folders(rootdir):\n",
    "    audio_vectors = []\n",
    "    for subdir, dirs, files in os.walk(rootdir):\n",
    "        for dir in dirs:\n",
    "            print(\"iterating through directory: \" , dir)\n",
    "            p_d_ = parse_directory(rootdir + dir , dir)\n",
    "            audio_vectors.append(p_d_)\n",
    "            \n",
    "    return audio_vectors\n",
    "\n",
    "    \n",
    "select_test_files()"
   ]
  },
  {
   "cell_type": "code",
   "execution_count": 42,
   "metadata": {},
   "outputs": [],
   "source": [
    "def get_vectors():\n",
    "    rootdir = 'C:\\\\Users\\\\James Hoffman\\\\Desktop\\\\Speech_Recognition\\\\test_files\\\\'\n",
    "    list_of_flattened_vectors = iterate_test_folders(rootdir)\n",
    "    \n",
    "    for i in range(0,3):\n",
    "        print(list_of_flattened_vectors[i])\n",
    "    \n",
    "    return list_of_flattened_vectors\n",
    "    "
   ]
  },
  {
   "cell_type": "code",
   "execution_count": 47,
   "metadata": {},
   "outputs": [],
   "source": [
    "def main():\n",
    "    sample = get_vectors()\n",
    "#     print(sample)\n",
    "    kmeans = KMeans(n_clusters=3, random_state=0).fit(sample)\n",
    "    pred_labels = kmeans.predict(test)\n",
    "    print(pred_labels)\n",
    "    print(kmeans.label)"
   ]
  },
  {
   "cell_type": "code",
   "execution_count": 48,
   "metadata": {},
   "outputs": [
    {
     "name": "stdout",
     "output_type": "stream",
     "text": [
      "iterating through directory:  1\n",
      "iterating through directory:  10\n",
      "iterating through directory:  2\n",
      "iterating through directory:  3\n",
      "iterating through directory:  4\n",
      "iterating through directory:  5\n",
      "iterating through directory:  6\n",
      "iterating through directory:  7\n",
      "iterating through directory:  8\n",
      "iterating through directory:  9\n"
     ]
    },
    {
     "name": "stderr",
     "output_type": "stream",
     "text": [
      "IOPub data rate exceeded.\n",
      "The notebook server will temporarily stop sending output\n",
      "to the client in order to avoid crashing it.\n",
      "To change this limit, set the config variable\n",
      "`--NotebookApp.iopub_data_rate_limit`.\n",
      "\n",
      "Current values:\n",
      "NotebookApp.iopub_data_rate_limit=1000000.0 (bytes/sec)\n",
      "NotebookApp.rate_limit_window=3.0 (secs)\n",
      "\n"
     ]
    }
   ],
   "source": [
    "main()"
   ]
  },
  {
   "cell_type": "code",
   "execution_count": null,
   "metadata": {},
   "outputs": [],
   "source": []
  },
  {
   "cell_type": "code",
   "execution_count": null,
   "metadata": {},
   "outputs": [],
   "source": []
  },
  {
   "cell_type": "code",
   "execution_count": null,
   "metadata": {},
   "outputs": [],
   "source": []
  }
 ],
 "metadata": {
  "kernelspec": {
   "display_name": "Python 3",
   "language": "python",
   "name": "python3"
  },
  "language_info": {
   "codemirror_mode": {
    "name": "ipython",
    "version": 3
   },
   "file_extension": ".py",
   "mimetype": "text/x-python",
   "name": "python",
   "nbconvert_exporter": "python",
   "pygments_lexer": "ipython3",
   "version": "3.6.4"
  }
 },
 "nbformat": 4,
 "nbformat_minor": 2
}
