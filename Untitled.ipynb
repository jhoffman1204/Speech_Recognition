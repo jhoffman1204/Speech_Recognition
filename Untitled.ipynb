{
 "cells": [
  {
   "cell_type": "code",
   "execution_count": 33,
   "metadata": {},
   "outputs": [
    {
     "name": "stdout",
     "output_type": "stream",
     "text": [
      "42\n",
      "5058\n",
      "5470\n",
      "335\n",
      "26\n",
      "69\n",
      "530\n",
      "271\n",
      "874\n"
     ]
    }
   ],
   "source": [
    "import numpy as np\n",
    "import librosa\n",
    "import librosa.display\n",
    "import matplotlib.pyplot as plt\n",
    "import os\n",
    "\n",
    "def display_graph_for_data(data , sampling_rate):\n",
    "    plt.figure(figsize=(12 , 4))\n",
    "    librosa.display.waveplot(data, sr=sampling_rate)\n",
    "    plt.show()\n",
    "\n",
    "    \n",
    "def parse_directory(smpl_siz): \n",
    "\n",
    "    audio_vectors = []\n",
    "    audio_directory = 'C:\\\\Users\\\\James Hoffman\\\\Desktop\\\\python_scripts\\\\391\\\\Final_Project\\\\1\\\\'\n",
    "\n",
    "    sample_size = smpl_siz\n",
    "    sample_ctr = 0\n",
    "\n",
    "    for filename in os.listdir(audio_directory):\n",
    "        if(sample_ctr == 10):\n",
    "            break\n",
    "        sample_ctr += 1\n",
    "        data, sampling_rate = librosa.load(audio_directory + filename)\n",
    "        spectral = np.log(np.abs(librosa.core.stft(data)))\n",
    "        audio_vectors.append(spectral)\n",
    "        \n",
    "    return audio_vectors\n",
    "\n",
    "def distance_vectors(audio_vectors):\n",
    "    # Use a temporally-constrained agglomerative clustering routine to partition data into k contiguous segments.\n",
    "    segmented = []\n",
    "    for vector in audio_vectors:\n",
    "        segmented_audio = librosa.segment.agglomerative(vector , 50)\n",
    "        segmented.append(segmented_audio)\n",
    "\n",
    "    # take the differences between the two np vectors and compare them\n",
    "    for i in range(0,len(segmented) - 1):\n",
    "        print(np.sum((segmented[i] - segmented[i + 1]) ** 2))\n",
    "        \n",
    "\n",
    "audio_vectors = parse_directory(10)\n",
    "distance_vectors(audio_vectors)"
   ]
  },
  {
   "cell_type": "code",
   "execution_count": null,
   "metadata": {},
   "outputs": [],
   "source": []
  },
  {
   "cell_type": "code",
   "execution_count": null,
   "metadata": {},
   "outputs": [],
   "source": []
  }
 ],
 "metadata": {
  "kernelspec": {
   "display_name": "Python 3",
   "language": "python",
   "name": "python3"
  },
  "language_info": {
   "codemirror_mode": {
    "name": "ipython",
    "version": 3
   },
   "file_extension": ".py",
   "mimetype": "text/x-python",
   "name": "python",
   "nbconvert_exporter": "python",
   "pygments_lexer": "ipython3",
   "version": "3.6.4"
  }
 },
 "nbformat": 4,
 "nbformat_minor": 2
}
