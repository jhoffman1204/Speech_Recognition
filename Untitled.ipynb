{
 "cells": [
  {
   "cell_type": "code",
   "execution_count": 45,
   "metadata": {},
   "outputs": [
    {
     "name": "stdout",
     "output_type": "stream",
     "text": [
      "[ 0.6502145   0.7484228  -0.40131983  2.0527396   2.4510643   1.3074576\n",
      "  1.193171    1.716066    1.7310934   1.5213335   0.8810595   0.38857323\n",
      "  1.1624922   0.7736862   0.25253773  0.5164812   1.0566792   1.2176389\n",
      "  1.018045    0.27642938  1.565681    1.045292   -0.09519863 -0.6098174\n",
      "  1.4366969   0.6905405   2.3445907   1.5773914  -1.4036633   0.7277756\n",
      "  1.5662105   2.2071989   1.475149    0.4133813   1.5343775   1.5361365\n",
      "  1.061864   -1.5000253  -0.34257236  1.1549883  -1.047975    1.4422083\n",
      "  1.7680644   1.0466566   1.3068168   1.8846238   1.4923452   0.5827965\n",
      " -0.68209565 -0.13958576  1.2607479   1.7030241 ]\n"
     ]
    }
   ],
   "source": [
    "import numpy as np\n",
    "import librosa\n",
    "import librosa.display\n",
    "import matplotlib.pyplot as plt\n",
    "import os\n",
    "\n",
    "rootdir = 'C:\\\\Users\\\\James Hoffman\\\\Desktop\\\\python_scripts\\\\391\\\\Final_Project\\\\test_files\\\\'\n",
    "\n",
    "def display_graph_for_data(data , sampling_rate):\n",
    "    plt.figure(figsize=(12 , 4))\n",
    "    librosa.display.waveplot(data, sr=sampling_rate)\n",
    "    plt.show()\n",
    "\n",
    "    \n",
    "def parse_directory(audio_directory , smpl_siz): \n",
    "\n",
    "    audio_vectors = []\n",
    "    audio_directory = 'C:\\\\Users\\\\James Hoffman\\\\Desktop\\\\python_scripts\\\\391\\\\Final_Project\\\\test_files\\\\1\\\\'\n",
    "\n",
    "    sample_size = smpl_siz\n",
    "    sample_ctr = 0\n",
    "\n",
    "    for filename in os.listdir(audio_directory):\n",
    "        if(sample_ctr == smpl_siz):\n",
    "            break\n",
    "        sample_ctr += 1\n",
    "        data, sampling_rate = librosa.load(audio_directory + filename)\n",
    "        spectral = np.log(np.abs(librosa.core.stft(data)))\n",
    "        audio_vectors.append(spectral)\n",
    "        \n",
    "    return audio_vectors\n",
    "    \n",
    "\n",
    "def iterate_test_folders(rootdir):\n",
    "    audio_vectors = []\n",
    "    for subdir, dirs, files in os.walk(rootdir):\n",
    "        for dir in dirs:\n",
    "            audio_vectors.append(parse_directory(rootdir + dir , 10))\n",
    "    return audio_vectors\n",
    "\n",
    "def distance_vectors(audio_vectors):\n",
    "    # Use a temporally-constrained agglomerative clustering routine to partition data into k contiguous segments.\n",
    "    segmented = []\n",
    "    for vector in audio_vectors:\n",
    "        segmented_audio = librosa.segment.agglomerative(vector , 50)\n",
    "        segmented.append(segmented_audio)\n",
    "\n",
    "    # take the differences between the two np vectors and compare them\n",
    "    for i in range(0,len(segmented) - 1):\n",
    "#         print(segmented[i] - segmented[i + 1])\n",
    "        print(np.sum((segmented[i] - segmented[i + 1]) ** 2))\n",
    "                \n",
    "\n",
    "# vectors is a 3 dimensional array where \n",
    "# index 1 is the index between test folders\n",
    "# index 2 are the different vectors that are within the same test folders\n",
    "        \n",
    "vectors = iterate_test_folders(rootdir)\n",
    "\n",
    "print(vectors[0][0][0])\n",
    "        \n",
    "# audio_vectors = parse_directory(10)\n",
    "# print(audio_vectors)\n",
    "# distance_vectors(audio_vectors)"
   ]
  },
  {
   "cell_type": "code",
   "execution_count": null,
   "metadata": {},
   "outputs": [],
   "source": []
  },
  {
   "cell_type": "code",
   "execution_count": null,
   "metadata": {},
   "outputs": [],
   "source": []
  }
 ],
 "metadata": {
  "kernelspec": {
   "display_name": "Python 3",
   "language": "python",
   "name": "python3"
  },
  "language_info": {
   "codemirror_mode": {
    "name": "ipython",
    "version": 3
   },
   "file_extension": ".py",
   "mimetype": "text/x-python",
   "name": "python",
   "nbconvert_exporter": "python",
   "pygments_lexer": "ipython3",
   "version": "3.6.4"
  }
 },
 "nbformat": 4,
 "nbformat_minor": 2
}
